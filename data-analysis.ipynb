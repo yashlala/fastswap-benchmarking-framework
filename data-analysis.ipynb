{
 "cells": [
  {
   "cell_type": "markdown",
   "id": "2c184a8d",
   "metadata": {},
   "source": [
    "# Benchmarking FastSwap\n",
    "\n",
    "2021-12-30"
   ]
  },
  {
   "cell_type": "markdown",
   "id": "e066f5c7",
   "metadata": {},
   "source": [
    "## Data Loading + Cleaning"
   ]
  },
  {
   "cell_type": "code",
   "execution_count": 23,
   "id": "cf45a241",
   "metadata": {},
   "outputs": [],
   "source": [
    "import numpy as np\n",
    "import pandas as pd\n",
    "import matplotlib.pyplot as plt\n",
    "import seaborn as sns"
   ]
  },
  {
   "cell_type": "code",
   "execution_count": 2,
   "id": "cea2c082",
   "metadata": {},
   "outputs": [],
   "source": [
    "samples = pd.read_csv('samples.csv')"
   ]
  },
  {
   "cell_type": "code",
   "execution_count": 3,
   "id": "4cd0d6d4",
   "metadata": {},
   "outputs": [
    {
     "data": {
      "text/html": [
       "<div>\n",
       "<style scoped>\n",
       "    .dataframe tbody tr th:only-of-type {\n",
       "        vertical-align: middle;\n",
       "    }\n",
       "\n",
       "    .dataframe tbody tr th {\n",
       "        vertical-align: top;\n",
       "    }\n",
       "\n",
       "    .dataframe thead th {\n",
       "        text-align: right;\n",
       "    }\n",
       "</style>\n",
       "<table border=\"1\" class=\"dataframe\">\n",
       "  <thead>\n",
       "    <tr style=\"text-align: right;\">\n",
       "      <th></th>\n",
       "      <th>major_pagefault_latency</th>\n",
       "      <th>minor_pagefault_latency</th>\n",
       "      <th>swap_cache_hits</th>\n",
       "      <th>swapin_count</th>\n",
       "      <th>swapin_prefetch_count</th>\n",
       "    </tr>\n",
       "  </thead>\n",
       "  <tbody>\n",
       "    <tr>\n",
       "      <th>0</th>\n",
       "      <td>13061</td>\n",
       "      <td>2095</td>\n",
       "      <td>1678</td>\n",
       "      <td>500</td>\n",
       "      <td>2083</td>\n",
       "    </tr>\n",
       "    <tr>\n",
       "      <th>1</th>\n",
       "      <td>13061</td>\n",
       "      <td>2095</td>\n",
       "      <td>1678</td>\n",
       "      <td>500</td>\n",
       "      <td>2083</td>\n",
       "    </tr>\n",
       "    <tr>\n",
       "      <th>2</th>\n",
       "      <td>13061</td>\n",
       "      <td>2095</td>\n",
       "      <td>1678</td>\n",
       "      <td>500</td>\n",
       "      <td>2083</td>\n",
       "    </tr>\n",
       "    <tr>\n",
       "      <th>3</th>\n",
       "      <td>13061</td>\n",
       "      <td>2095</td>\n",
       "      <td>1678</td>\n",
       "      <td>500</td>\n",
       "      <td>2083</td>\n",
       "    </tr>\n",
       "    <tr>\n",
       "      <th>4</th>\n",
       "      <td>13061</td>\n",
       "      <td>2095</td>\n",
       "      <td>1678</td>\n",
       "      <td>500</td>\n",
       "      <td>2083</td>\n",
       "    </tr>\n",
       "  </tbody>\n",
       "</table>\n",
       "</div>"
      ],
      "text/plain": [
       "   major_pagefault_latency  minor_pagefault_latency  swap_cache_hits  \\\n",
       "0                    13061                     2095             1678   \n",
       "1                    13061                     2095             1678   \n",
       "2                    13061                     2095             1678   \n",
       "3                    13061                     2095             1678   \n",
       "4                    13061                     2095             1678   \n",
       "\n",
       "   swapin_count  swapin_prefetch_count  \n",
       "0           500                   2083  \n",
       "1           500                   2083  \n",
       "2           500                   2083  \n",
       "3           500                   2083  \n",
       "4           500                   2083  "
      ]
     },
     "execution_count": 3,
     "metadata": {},
     "output_type": "execute_result"
    }
   ],
   "source": [
    "samples.head()"
   ]
  },
  {
   "cell_type": "code",
   "execution_count": 4,
   "id": "985447d9",
   "metadata": {},
   "outputs": [
    {
     "data": {
      "text/plain": [
       "major_pagefault_latency    int64\n",
       "minor_pagefault_latency    int64\n",
       "swap_cache_hits            int64\n",
       "swapin_count               int64\n",
       "swapin_prefetch_count      int64\n",
       "dtype: object"
      ]
     },
     "execution_count": 4,
     "metadata": {},
     "output_type": "execute_result"
    }
   ],
   "source": [
    "samples.dtypes"
   ]
  },
  {
   "cell_type": "markdown",
   "id": "f28f6e5c",
   "metadata": {},
   "source": [
    "Looks like we got quite a few repeated samples. Maybe we should differentiate them by exporting latencies as a tuple, with a monotonically increasing \"timestamp\". For now, let's just remove adjacent duplicates and call it a day."
   ]
  },
  {
   "cell_type": "code",
   "execution_count": 5,
   "id": "17630fce",
   "metadata": {},
   "outputs": [
    {
     "data": {
      "text/html": [
       "<div>\n",
       "<style scoped>\n",
       "    .dataframe tbody tr th:only-of-type {\n",
       "        vertical-align: middle;\n",
       "    }\n",
       "\n",
       "    .dataframe tbody tr th {\n",
       "        vertical-align: top;\n",
       "    }\n",
       "\n",
       "    .dataframe thead th {\n",
       "        text-align: right;\n",
       "    }\n",
       "</style>\n",
       "<table border=\"1\" class=\"dataframe\">\n",
       "  <thead>\n",
       "    <tr style=\"text-align: right;\">\n",
       "      <th></th>\n",
       "      <th>major_pagefault_latency</th>\n",
       "      <th>minor_pagefault_latency</th>\n",
       "      <th>swap_cache_hits</th>\n",
       "      <th>swapin_count</th>\n",
       "      <th>swapin_prefetch_count</th>\n",
       "    </tr>\n",
       "  </thead>\n",
       "  <tbody>\n",
       "    <tr>\n",
       "      <th>684</th>\n",
       "      <td>13061</td>\n",
       "      <td>2095</td>\n",
       "      <td>1680</td>\n",
       "      <td>515</td>\n",
       "      <td>2097</td>\n",
       "    </tr>\n",
       "    <tr>\n",
       "      <th>685</th>\n",
       "      <td>18996</td>\n",
       "      <td>2445</td>\n",
       "      <td>1693</td>\n",
       "      <td>518</td>\n",
       "      <td>2118</td>\n",
       "    </tr>\n",
       "    <tr>\n",
       "      <th>686</th>\n",
       "      <td>31988</td>\n",
       "      <td>2584</td>\n",
       "      <td>1707</td>\n",
       "      <td>520</td>\n",
       "      <td>2132</td>\n",
       "    </tr>\n",
       "    <tr>\n",
       "      <th>688</th>\n",
       "      <td>34712</td>\n",
       "      <td>700931</td>\n",
       "      <td>1717</td>\n",
       "      <td>521</td>\n",
       "      <td>2139</td>\n",
       "    </tr>\n",
       "    <tr>\n",
       "      <th>708</th>\n",
       "      <td>36248</td>\n",
       "      <td>2724</td>\n",
       "      <td>1723</td>\n",
       "      <td>522</td>\n",
       "      <td>2146</td>\n",
       "    </tr>\n",
       "    <tr>\n",
       "      <th>...</th>\n",
       "      <td>...</td>\n",
       "      <td>...</td>\n",
       "      <td>...</td>\n",
       "      <td>...</td>\n",
       "      <td>...</td>\n",
       "    </tr>\n",
       "    <tr>\n",
       "      <th>21243</th>\n",
       "      <td>37784</td>\n",
       "      <td>1956</td>\n",
       "      <td>142905</td>\n",
       "      <td>86754</td>\n",
       "      <td>181710</td>\n",
       "    </tr>\n",
       "    <tr>\n",
       "      <th>21244</th>\n",
       "      <td>33874</td>\n",
       "      <td>2026</td>\n",
       "      <td>142918</td>\n",
       "      <td>86756</td>\n",
       "      <td>181724</td>\n",
       "    </tr>\n",
       "    <tr>\n",
       "      <th>21245</th>\n",
       "      <td>35410</td>\n",
       "      <td>2165</td>\n",
       "      <td>142930</td>\n",
       "      <td>86757</td>\n",
       "      <td>181731</td>\n",
       "    </tr>\n",
       "    <tr>\n",
       "      <th>21247</th>\n",
       "      <td>35549</td>\n",
       "      <td>3073</td>\n",
       "      <td>142966</td>\n",
       "      <td>86769</td>\n",
       "      <td>181777</td>\n",
       "    </tr>\n",
       "    <tr>\n",
       "      <th>21263</th>\n",
       "      <td>21721</td>\n",
       "      <td>2026</td>\n",
       "      <td>142969</td>\n",
       "      <td>86769</td>\n",
       "      <td>181777</td>\n",
       "    </tr>\n",
       "  </tbody>\n",
       "</table>\n",
       "<p>4946 rows × 5 columns</p>\n",
       "</div>"
      ],
      "text/plain": [
       "       major_pagefault_latency  minor_pagefault_latency  swap_cache_hits  \\\n",
       "684                      13061                     2095             1680   \n",
       "685                      18996                     2445             1693   \n",
       "686                      31988                     2584             1707   \n",
       "688                      34712                   700931             1717   \n",
       "708                      36248                     2724             1723   \n",
       "...                        ...                      ...              ...   \n",
       "21243                    37784                     1956           142905   \n",
       "21244                    33874                     2026           142918   \n",
       "21245                    35410                     2165           142930   \n",
       "21247                    35549                     3073           142966   \n",
       "21263                    21721                     2026           142969   \n",
       "\n",
       "       swapin_count  swapin_prefetch_count  \n",
       "684             515                   2097  \n",
       "685             518                   2118  \n",
       "686             520                   2132  \n",
       "688             521                   2139  \n",
       "708             522                   2146  \n",
       "...             ...                    ...  \n",
       "21243         86754                 181710  \n",
       "21244         86756                 181724  \n",
       "21245         86757                 181731  \n",
       "21247         86769                 181777  \n",
       "21263         86769                 181777  \n",
       "\n",
       "[4946 rows x 5 columns]"
      ]
     },
     "execution_count": 5,
     "metadata": {},
     "output_type": "execute_result"
    }
   ],
   "source": [
    "samples.loc[(samples.shift(-1) != samples)['major_pagefault_latency']]"
   ]
  },
  {
   "cell_type": "markdown",
   "id": "e1eaccba",
   "metadata": {},
   "source": [
    "Eek, maybe not. Just use the shell tools we're familiar with to take out the more \"obvious\" repeats. "
   ]
  },
  {
   "cell_type": "code",
   "execution_count": 6,
   "id": "04782b03",
   "metadata": {},
   "outputs": [],
   "source": [
    "uniq_samples = pd.read_csv('uniq_samples.csv')"
   ]
  },
  {
   "cell_type": "code",
   "execution_count": 7,
   "id": "dec45e81",
   "metadata": {
    "scrolled": true
   },
   "outputs": [
    {
     "data": {
      "text/html": [
       "<div>\n",
       "<style scoped>\n",
       "    .dataframe tbody tr th:only-of-type {\n",
       "        vertical-align: middle;\n",
       "    }\n",
       "\n",
       "    .dataframe tbody tr th {\n",
       "        vertical-align: top;\n",
       "    }\n",
       "\n",
       "    .dataframe thead th {\n",
       "        text-align: right;\n",
       "    }\n",
       "</style>\n",
       "<table border=\"1\" class=\"dataframe\">\n",
       "  <thead>\n",
       "    <tr style=\"text-align: right;\">\n",
       "      <th></th>\n",
       "      <th>major_pagefault_latency</th>\n",
       "      <th>minor_pagefault_latency</th>\n",
       "      <th>swap_cache_hits</th>\n",
       "      <th>swapin_count</th>\n",
       "      <th>swapin_prefetch_count</th>\n",
       "    </tr>\n",
       "  </thead>\n",
       "  <tbody>\n",
       "    <tr>\n",
       "      <th>count</th>\n",
       "      <td>2.126400e+04</td>\n",
       "      <td>2.126400e+04</td>\n",
       "      <td>21264.000000</td>\n",
       "      <td>21264.000000</td>\n",
       "      <td>21264.000000</td>\n",
       "    </tr>\n",
       "    <tr>\n",
       "      <th>mean</th>\n",
       "      <td>3.168014e+04</td>\n",
       "      <td>2.682484e+04</td>\n",
       "      <td>79558.521680</td>\n",
       "      <td>43174.464682</td>\n",
       "      <td>99611.734199</td>\n",
       "    </tr>\n",
       "    <tr>\n",
       "      <th>std</th>\n",
       "      <td>1.721975e+05</td>\n",
       "      <td>3.456996e+05</td>\n",
       "      <td>37415.648953</td>\n",
       "      <td>28695.866141</td>\n",
       "      <td>50938.078093</td>\n",
       "    </tr>\n",
       "    <tr>\n",
       "      <th>min</th>\n",
       "      <td>4.121000e+03</td>\n",
       "      <td>1.048000e+03</td>\n",
       "      <td>1678.000000</td>\n",
       "      <td>500.000000</td>\n",
       "      <td>2083.000000</td>\n",
       "    </tr>\n",
       "    <tr>\n",
       "      <th>25%</th>\n",
       "      <td>8.312000e+03</td>\n",
       "      <td>2.025000e+03</td>\n",
       "      <td>63444.000000</td>\n",
       "      <td>10867.000000</td>\n",
       "      <td>69242.000000</td>\n",
       "    </tr>\n",
       "    <tr>\n",
       "      <th>50%</th>\n",
       "      <td>1.857800e+04</td>\n",
       "      <td>2.165000e+03</td>\n",
       "      <td>90855.000000</td>\n",
       "      <td>43798.000000</td>\n",
       "      <td>113070.000000</td>\n",
       "    </tr>\n",
       "    <tr>\n",
       "      <th>75%</th>\n",
       "      <td>2.919400e+04</td>\n",
       "      <td>2.375000e+03</td>\n",
       "      <td>106244.000000</td>\n",
       "      <td>70943.000000</td>\n",
       "      <td>140807.000000</td>\n",
       "    </tr>\n",
       "    <tr>\n",
       "      <th>max</th>\n",
       "      <td>8.679223e+06</td>\n",
       "      <td>1.292965e+07</td>\n",
       "      <td>142969.000000</td>\n",
       "      <td>86769.000000</td>\n",
       "      <td>181777.000000</td>\n",
       "    </tr>\n",
       "  </tbody>\n",
       "</table>\n",
       "</div>"
      ],
      "text/plain": [
       "       major_pagefault_latency  minor_pagefault_latency  swap_cache_hits  \\\n",
       "count             2.126400e+04             2.126400e+04     21264.000000   \n",
       "mean              3.168014e+04             2.682484e+04     79558.521680   \n",
       "std               1.721975e+05             3.456996e+05     37415.648953   \n",
       "min               4.121000e+03             1.048000e+03      1678.000000   \n",
       "25%               8.312000e+03             2.025000e+03     63444.000000   \n",
       "50%               1.857800e+04             2.165000e+03     90855.000000   \n",
       "75%               2.919400e+04             2.375000e+03    106244.000000   \n",
       "max               8.679223e+06             1.292965e+07    142969.000000   \n",
       "\n",
       "       swapin_count  swapin_prefetch_count  \n",
       "count  21264.000000           21264.000000  \n",
       "mean   43174.464682           99611.734199  \n",
       "std    28695.866141           50938.078093  \n",
       "min      500.000000            2083.000000  \n",
       "25%    10867.000000           69242.000000  \n",
       "50%    43798.000000          113070.000000  \n",
       "75%    70943.000000          140807.000000  \n",
       "max    86769.000000          181777.000000  "
      ]
     },
     "execution_count": 7,
     "metadata": {},
     "output_type": "execute_result"
    }
   ],
   "source": [
    "samples.describe()"
   ]
  },
  {
   "cell_type": "code",
   "execution_count": 8,
   "id": "7b9bf6f4",
   "metadata": {},
   "outputs": [
    {
     "data": {
      "text/html": [
       "<div>\n",
       "<style scoped>\n",
       "    .dataframe tbody tr th:only-of-type {\n",
       "        vertical-align: middle;\n",
       "    }\n",
       "\n",
       "    .dataframe tbody tr th {\n",
       "        vertical-align: top;\n",
       "    }\n",
       "\n",
       "    .dataframe thead th {\n",
       "        text-align: right;\n",
       "    }\n",
       "</style>\n",
       "<table border=\"1\" class=\"dataframe\">\n",
       "  <thead>\n",
       "    <tr style=\"text-align: right;\">\n",
       "      <th></th>\n",
       "      <th>major_pagefault_latency</th>\n",
       "      <th>minor_pagefault_latency</th>\n",
       "      <th>swap_cache_hits</th>\n",
       "      <th>swapin_count</th>\n",
       "      <th>swapin_prefetch_count</th>\n",
       "    </tr>\n",
       "  </thead>\n",
       "  <tbody>\n",
       "    <tr>\n",
       "      <th>count</th>\n",
       "      <td>6.669000e+03</td>\n",
       "      <td>6.669000e+03</td>\n",
       "      <td>6669.000000</td>\n",
       "      <td>6669.000000</td>\n",
       "      <td>6669.000000</td>\n",
       "    </tr>\n",
       "    <tr>\n",
       "      <th>mean</th>\n",
       "      <td>4.725487e+04</td>\n",
       "      <td>2.757974e+04</td>\n",
       "      <td>75224.424651</td>\n",
       "      <td>40257.622732</td>\n",
       "      <td>93791.768931</td>\n",
       "    </tr>\n",
       "    <tr>\n",
       "      <th>std</th>\n",
       "      <td>2.692865e+05</td>\n",
       "      <td>3.302371e+05</td>\n",
       "      <td>42153.605267</td>\n",
       "      <td>31368.437131</td>\n",
       "      <td>56876.819666</td>\n",
       "    </tr>\n",
       "    <tr>\n",
       "      <th>min</th>\n",
       "      <td>4.121000e+03</td>\n",
       "      <td>1.048000e+03</td>\n",
       "      <td>1678.000000</td>\n",
       "      <td>500.000000</td>\n",
       "      <td>2083.000000</td>\n",
       "    </tr>\n",
       "    <tr>\n",
       "      <th>25%</th>\n",
       "      <td>1.452700e+04</td>\n",
       "      <td>2.026000e+03</td>\n",
       "      <td>34563.000000</td>\n",
       "      <td>5315.000000</td>\n",
       "      <td>35250.000000</td>\n",
       "    </tr>\n",
       "    <tr>\n",
       "      <th>50%</th>\n",
       "      <td>2.619000e+04</td>\n",
       "      <td>2.235000e+03</td>\n",
       "      <td>85412.000000</td>\n",
       "      <td>38842.000000</td>\n",
       "      <td>105405.000000</td>\n",
       "    </tr>\n",
       "    <tr>\n",
       "      <th>75%</th>\n",
       "      <td>3.135900e+04</td>\n",
       "      <td>2.445000e+03</td>\n",
       "      <td>106373.000000</td>\n",
       "      <td>71696.000000</td>\n",
       "      <td>141067.000000</td>\n",
       "    </tr>\n",
       "    <tr>\n",
       "      <th>max</th>\n",
       "      <td>8.679223e+06</td>\n",
       "      <td>1.292965e+07</td>\n",
       "      <td>142969.000000</td>\n",
       "      <td>86769.000000</td>\n",
       "      <td>181777.000000</td>\n",
       "    </tr>\n",
       "  </tbody>\n",
       "</table>\n",
       "</div>"
      ],
      "text/plain": [
       "       major_pagefault_latency  minor_pagefault_latency  swap_cache_hits  \\\n",
       "count             6.669000e+03             6.669000e+03      6669.000000   \n",
       "mean              4.725487e+04             2.757974e+04     75224.424651   \n",
       "std               2.692865e+05             3.302371e+05     42153.605267   \n",
       "min               4.121000e+03             1.048000e+03      1678.000000   \n",
       "25%               1.452700e+04             2.026000e+03     34563.000000   \n",
       "50%               2.619000e+04             2.235000e+03     85412.000000   \n",
       "75%               3.135900e+04             2.445000e+03    106373.000000   \n",
       "max               8.679223e+06             1.292965e+07    142969.000000   \n",
       "\n",
       "       swapin_count  swapin_prefetch_count  \n",
       "count   6669.000000            6669.000000  \n",
       "mean   40257.622732           93791.768931  \n",
       "std    31368.437131           56876.819666  \n",
       "min      500.000000            2083.000000  \n",
       "25%     5315.000000           35250.000000  \n",
       "50%    38842.000000          105405.000000  \n",
       "75%    71696.000000          141067.000000  \n",
       "max    86769.000000          181777.000000  "
      ]
     },
     "execution_count": 8,
     "metadata": {},
     "output_type": "execute_result"
    }
   ],
   "source": [
    "uniq_samples.describe()"
   ]
  },
  {
   "cell_type": "code",
   "execution_count": 9,
   "id": "149d2f7a",
   "metadata": {
    "scrolled": true
   },
   "outputs": [
    {
     "data": {
      "text/plain": [
       "<AxesSubplot:>"
      ]
     },
     "execution_count": 9,
     "metadata": {},
     "output_type": "execute_result"
    },
    {
     "data": {
      "image/png": "[encoded data removed]",
      "text/plain": [
       "<Figure size 432x288 with 1 Axes>"
      ]
     },
     "metadata": {
      "needs_background": "light"
     },
     "output_type": "display_data"
    }
   ],
   "source": [
    "samples['major_pagefault_latency'].plot()"
   ]
  },
  {
   "cell_type": "code",
   "execution_count": 10,
   "id": "9ba38300",
   "metadata": {
    "scrolled": true
   },
   "outputs": [
    {
     "data": {
      "text/plain": [
       "<AxesSubplot:>"
      ]
     },
     "execution_count": 10,
     "metadata": {},
     "output_type": "execute_result"
    },
    {
     "data": {
      "image/png": "[encoded data removed]",
      "text/plain": [
       "<Figure size 432x288 with 1 Axes>"
      ]
     },
     "metadata": {
      "needs_background": "light"
     },
     "output_type": "display_data"
    }
   ],
   "source": [
    "uniq_samples['major_pagefault_latency'].plot()"
   ]
  },
  {
   "cell_type": "markdown",
   "id": "a5867649",
   "metadata": {},
   "source": [
    "Looked through the raw data. I think that the best way to interpret at this should be by extracting individual columns, and visualizing those. I'll assume that the swap latency and pagefault latency aren't too correlated. "
   ]
  },
  {
   "cell_type": "markdown",
   "id": "89103ebd",
   "metadata": {},
   "source": [
    "## Data Analysis"
   ]
  },
  {
   "cell_type": "markdown",
   "id": "2feac7de",
   "metadata": {},
   "source": [
    "### Visualizing Swap Latencies"
   ]
  },
  {
   "cell_type": "code",
   "execution_count": 11,
   "id": "daf73468",
   "metadata": {},
   "outputs": [],
   "source": [
    "# Deduplicate adjacent samples. \n",
    "def dedup_adjacent(df, column):\n",
    "    series = df[column]\n",
    "    return series.loc[series.shift() != series]\n",
    "\n",
    "# Trim the outliers of a Pandas series (used for plotting)\n",
    "def trim_outliers(S): \n",
    "    return S[~((S-S.mean()).abs() > 3*S.std())]"
   ]
  },
  {
   "cell_type": "code",
   "execution_count": 40,
   "id": "f322968b",
   "metadata": {},
   "outputs": [],
   "source": [
    "major_latencies = dedup_adjacent(samples, 'major_pagefault_latency')\n",
    "minor_latencies = dedup_adjacent(samples, 'minor_pagefault_latency')\n",
    "#ax.hist(dedup_adjacent(samples, 'minor_pagefault_latency'),\n",
    "#          label='Minor Page Fault Latencies')"
   ]
  },
  {
   "cell_type": "code",
   "execution_count": 41,
   "id": "91db35eb",
   "metadata": {},
   "outputs": [
    {
     "data": {
      "text/plain": [
       "count    4.946000e+03\n",
       "mean     5.109180e+04\n",
       "std      2.996591e+05\n",
       "min      4.121000e+03\n",
       "25%      1.501600e+04\n",
       "50%      2.667900e+04\n",
       "75%      3.169075e+04\n",
       "max      8.679223e+06\n",
       "Name: major_pagefault_latency, dtype: float64"
      ]
     },
     "execution_count": 41,
     "metadata": {},
     "output_type": "execute_result"
    }
   ],
   "source": [
    "major_latencies.describe()"
   ]
  },
  {
   "cell_type": "code",
   "execution_count": 43,
   "id": "807562a1",
   "metadata": {},
   "outputs": [
    {
     "data": {
      "text/plain": [
       "count    4.477000e+03\n",
       "mean     3.297604e+04\n",
       "std      3.771559e+05\n",
       "min      1.048000e+03\n",
       "25%      2.026000e+03\n",
       "50%      2.235000e+03\n",
       "75%      2.514000e+03\n",
       "max      1.292965e+07\n",
       "Name: minor_pagefault_latency, dtype: float64"
      ]
     },
     "execution_count": 43,
     "metadata": {},
     "output_type": "execute_result"
    }
   ],
   "source": [
    "minor_latencies.describe()"
   ]
  },
  {
   "cell_type": "code",
   "execution_count": 36,
   "id": "493e20a1",
   "metadata": {},
   "outputs": [
    {
     "data": {
      "image/png": "[encoded data removed]",
      "text/plain": [
       "<Figure size 432x288 with 1 Axes>"
      ]
     },
     "metadata": {
      "needs_background": "light"
     },
     "output_type": "display_data"
    }
   ],
   "source": [
    "log_major_latencies = np.log10(major_latencies / 1e9)\n",
    "log_minor_latencies = np.log10(minor_latencies / 1e9)\n",
    "\n",
    "fig, ax = plt.subplots(1)\n",
    "\n",
    "ax.hist(log_major_latencies, label='Major Faults', density=True, alpha=0.8)\n",
    "ax.hist(log_minor_latencies, label='Minor Faults', density=True, alpha=0.8)\n",
    "\n",
    "\n",
    "ax.set_ylabel('Probability Density')\n",
    "ax.set_xlabel('Latency (log10(seconds))')\n",
    "ax.legend()\n",
    "\n",
    "fig.savefig('fault-latency-hist.png', dpi=600)"
   ]
  },
  {
   "cell_type": "markdown",
   "id": "b555e3f1",
   "metadata": {},
   "source": [
    "Good stuff!"
   ]
  },
  {
   "cell_type": "markdown",
   "id": "5882c5f1",
   "metadata": {},
   "source": [
    "### Calculating Swap Prefetch Contribution"
   ]
  },
  {
   "cell_type": "markdown",
   "id": "ac820aac",
   "metadata": {},
   "source": [
    "Look as late as possible in the dataset, because we'll have averaged more data. "
   ]
  },
  {
   "cell_type": "code",
   "execution_count": 38,
   "id": "afe50017",
   "metadata": {},
   "outputs": [],
   "source": [
    "swap_cache_hits = 142969\n",
    "swapin_count = 86769\n",
    "swapin_prefetch_count = 181777\n",
    "\n",
    "prefetch_contribution = swapin_prefetch_count / (swapin_count + swapin_prefetch_count)\n",
    "prefetch_accuracy = swap_cache_hits / swapin_prefetch_count"
   ]
  },
  {
   "cell_type": "code",
   "execution_count": 39,
   "id": "48e763a0",
   "metadata": {},
   "outputs": [
    {
     "name": "stdout",
     "output_type": "stream",
     "text": [
      "0.6768933441570532 0.7865076439813617\n"
     ]
    }
   ],
   "source": [
    "print(prefetch_contribution, prefetch_accuracy)"
   ]
  },
  {
   "cell_type": "markdown",
   "id": "5e7c65d8",
   "metadata": {},
   "source": [
    "Good stuff. Can experiment with other applications as needed. "
   ]
  }
 ],
 "metadata": {
  "kernelspec": {
   "display_name": "Python 3 (ipykernel)",
   "language": "python",
   "name": "python3"
  },
  "language_info": {
   "codemirror_mode": {
    "name": "ipython",
    "version": 3
   },
   "file_extension": ".py",
   "mimetype": "text/x-python",
   "name": "python",
   "nbconvert_exporter": "python",
   "pygments_lexer": "ipython3",
   "version": "3.10.1"
  }
 },
 "nbformat": 4,
 "nbformat_minor": 5
}
